{
  "nbformat": 4,
  "nbformat_minor": 0,
  "metadata": {
    "colab": {
      "provenance": []
    },
    "kernelspec": {
      "name": "python3",
      "display_name": "Python 3"
    },
    "language_info": {
      "name": "python"
    }
  },
  "cells": [
    {
      "cell_type": "code",
      "execution_count": null,
      "metadata": {
        "colab": {
          "base_uri": "https://localhost:8080/"
        },
        "id": "URzz10Q2J2nN",
        "outputId": "e6a0457d-36db-4b4a-b3c6-7ebcd05106de"
      },
      "outputs": [
        {
          "output_type": "stream",
          "name": "stdout",
          "text": [
            "Looking in indexes: https://pypi.org/simple, https://us-python.pkg.dev/colab-wheels/public/simple/\n",
            "Requirement already satisfied: botorch in /usr/local/lib/python3.7/dist-packages (0.6.6)\n",
            "Requirement already satisfied: gpytorch>=1.8.1 in /usr/local/lib/python3.7/dist-packages (from botorch) (1.8.1)\n",
            "Requirement already satisfied: pyro-ppl>=1.8.0 in /usr/local/lib/python3.7/dist-packages (from botorch) (1.8.1)\n",
            "Requirement already satisfied: multipledispatch in /usr/local/lib/python3.7/dist-packages (from botorch) (0.6.0)\n",
            "Requirement already satisfied: scipy in /usr/local/lib/python3.7/dist-packages (from botorch) (1.7.3)\n",
            "Requirement already satisfied: torch>=1.10 in /usr/local/lib/python3.7/dist-packages (from botorch) (1.12.1+cu113)\n",
            "Requirement already satisfied: numpy in /usr/local/lib/python3.7/dist-packages (from gpytorch>=1.8.1->botorch) (1.21.6)\n",
            "Requirement already satisfied: scikit-learn in /usr/local/lib/python3.7/dist-packages (from gpytorch>=1.8.1->botorch) (1.0.2)\n",
            "Requirement already satisfied: pyro-api>=0.1.1 in /usr/local/lib/python3.7/dist-packages (from pyro-ppl>=1.8.0->botorch) (0.1.2)\n",
            "Requirement already satisfied: opt-einsum>=2.3.2 in /usr/local/lib/python3.7/dist-packages (from pyro-ppl>=1.8.0->botorch) (3.3.0)\n",
            "Requirement already satisfied: tqdm>=4.36 in /usr/local/lib/python3.7/dist-packages (from pyro-ppl>=1.8.0->botorch) (4.64.0)\n",
            "Requirement already satisfied: typing-extensions in /usr/local/lib/python3.7/dist-packages (from torch>=1.10->botorch) (4.1.1)\n",
            "Requirement already satisfied: six in /usr/local/lib/python3.7/dist-packages (from multipledispatch->botorch) (1.15.0)\n",
            "Requirement already satisfied: threadpoolctl>=2.0.0 in /usr/local/lib/python3.7/dist-packages (from scikit-learn->gpytorch>=1.8.1->botorch) (3.1.0)\n",
            "Requirement already satisfied: joblib>=0.11 in /usr/local/lib/python3.7/dist-packages (from scikit-learn->gpytorch>=1.8.1->botorch) (1.1.0)\n"
          ]
        }
      ],
      "source": [
        "!pip install botorch"
      ]
    },
    {
      "cell_type": "code",
      "source": [
        "from botorch.test_functions import Hartmann\n",
        "import numpy as np\n",
        "import torch\n",
        "import random\n",
        "\n",
        "SEED = 8\n",
        "random.seed(SEED)\n",
        "np.random.seed(SEED)\n",
        "torch.manual_seed(SEED)"
      ],
      "metadata": {
        "id": "rYCZvqLPKAUk",
        "colab": {
          "base_uri": "https://localhost:8080/"
        },
        "outputId": "97764288-2344-4c99-a24e-e2e568a3a4a4"
      },
      "execution_count": null,
      "outputs": [
        {
          "output_type": "execute_result",
          "data": {
            "text/plain": [
              "<torch._C.Generator at 0x7f457ca95c30>"
            ]
          },
          "metadata": {},
          "execution_count": 2
        }
      ]
    },
    {
      "cell_type": "code",
      "source": [
        "# create an instance of negated 6d Hartmann function in a maximization setting\n",
        "neg_hartmann6 = Hartmann(dim=6, negate=True)"
      ],
      "metadata": {
        "id": "-Lp8HA2pZ5Gp"
      },
      "execution_count": null,
      "outputs": []
    },
    {
      "cell_type": "code",
      "source": [
        "neg_hartmann6.optimal_value"
      ],
      "metadata": {
        "colab": {
          "base_uri": "https://localhost:8080/"
        },
        "id": "WDO5MJvKaC1S",
        "outputId": "4f110957-67d9-4695-9531-db1be95ab902"
      },
      "execution_count": null,
      "outputs": [
        {
          "output_type": "execute_result",
          "data": {
            "text/plain": [
              "3.32237"
            ]
          },
          "metadata": {},
          "execution_count": 4
        }
      ]
    },
    {
      "cell_type": "code",
      "source": [
        "# create 10x6 random numbers from a uniform distribution\n",
        "train_x = torch.rand(10, 6)\n",
        "# obtain the corresponding functional evaluation as a column vector\n",
        "train_obj = neg_hartmann6(train_x).unsqueeze(-1)"
      ],
      "metadata": {
        "id": "oV4_CmLILM3o"
      },
      "execution_count": null,
      "outputs": []
    },
    {
      "cell_type": "code",
      "source": [
        "train_x.shape"
      ],
      "metadata": {
        "colab": {
          "base_uri": "https://localhost:8080/"
        },
        "id": "zZVkCvpTYiHI",
        "outputId": "ecdec818-e19a-4b58-9c0a-2c34a2ee4806"
      },
      "execution_count": null,
      "outputs": [
        {
          "output_type": "execute_result",
          "data": {
            "text/plain": [
              "torch.Size([10, 6])"
            ]
          },
          "metadata": {},
          "execution_count": 6
        }
      ]
    },
    {
      "cell_type": "code",
      "source": [
        "train_obj"
      ],
      "metadata": {
        "colab": {
          "base_uri": "https://localhost:8080/"
        },
        "id": "qH3QiZWNaYlE",
        "outputId": "f53ff30b-e51e-4b1b-ec32-d3cec94723a2"
      },
      "execution_count": null,
      "outputs": [
        {
          "output_type": "execute_result",
          "data": {
            "text/plain": [
              "tensor([[0.1066],\n",
              "        [0.0032],\n",
              "        [0.0027],\n",
              "        [0.7279],\n",
              "        [0.0881],\n",
              "        [0.8750],\n",
              "        [0.0038],\n",
              "        [0.1098],\n",
              "        [0.0103],\n",
              "        [0.7158]])"
            ]
          },
          "metadata": {},
          "execution_count": 7
        }
      ]
    },
    {
      "cell_type": "code",
      "source": [
        "from botorch.models import SingleTaskGP\n",
        "# create a single-task exact GP model instance\n",
        "# use a GP prior with Matern kernel and constant mean function by default\n",
        "model = SingleTaskGP(train_X=train_x, train_Y=train_obj)"
      ],
      "metadata": {
        "id": "ExDkvwdaaZ_3"
      },
      "execution_count": null,
      "outputs": []
    },
    {
      "cell_type": "code",
      "source": [
        "# check original hyperparameters\n",
        "list(model.named_hyperparameters())"
      ],
      "metadata": {
        "colab": {
          "base_uri": "https://localhost:8080/"
        },
        "id": "Wwff9FWgizXI",
        "outputId": "a32ad8d7-163c-4ab0-8440-15c222232474"
      },
      "execution_count": null,
      "outputs": [
        {
          "output_type": "execute_result",
          "data": {
            "text/plain": [
              "[('likelihood.noise_covar.raw_noise', Parameter containing:\n",
              "  tensor([2.0000], requires_grad=True)),\n",
              " ('mean_module.raw_constant', Parameter containing:\n",
              "  tensor(0., requires_grad=True)),\n",
              " ('covar_module.raw_outputscale', Parameter containing:\n",
              "  tensor(0., requires_grad=True)),\n",
              " ('covar_module.base_kernel.raw_lengthscale', Parameter containing:\n",
              "  tensor([[0., 0., 0., 0., 0., 0.]], requires_grad=True))]"
            ]
          },
          "metadata": {},
          "execution_count": 9
        }
      ]
    },
    {
      "cell_type": "code",
      "source": [
        "from gpytorch.mlls import ExactMarginalLogLikelihood\n",
        "# calculate the exact marginal log likelihood (MLL), i.e., negative loss\n",
        "# for an exact Gaussian process with a Gaussian likelihood\n",
        "mll = ExactMarginalLogLikelihood(model.likelihood, model)"
      ],
      "metadata": {
        "id": "7t8ipVhOak8P"
      },
      "execution_count": null,
      "outputs": []
    },
    {
      "cell_type": "code",
      "source": [
        "from botorch.fit import fit_gpytorch_model\n",
        "# fit hyperparameters (kernel parameters and noise variance) of a GPyTorch model \n",
        "fit_gpytorch_model(mll);"
      ],
      "metadata": {
        "id": "tl2FCBY2bnf2"
      },
      "execution_count": null,
      "outputs": []
    },
    {
      "cell_type": "code",
      "source": [
        "list(model.named_hyperparameters())"
      ],
      "metadata": {
        "colab": {
          "base_uri": "https://localhost:8080/"
        },
        "id": "BThbMOSBbm6h",
        "outputId": "bd966d76-f3fb-4c07-998c-58de35e05fab"
      },
      "execution_count": null,
      "outputs": [
        {
          "output_type": "execute_result",
          "data": {
            "text/plain": [
              "[('likelihood.noise_covar.raw_noise', Parameter containing:\n",
              "  tensor([0.0060], requires_grad=True)),\n",
              " ('mean_module.raw_constant', Parameter containing:\n",
              "  tensor(0.2433, requires_grad=True)),\n",
              " ('covar_module.raw_outputscale', Parameter containing:\n",
              "  tensor(-2.1142, requires_grad=True)),\n",
              " ('covar_module.base_kernel.raw_lengthscale', Parameter containing:\n",
              "  tensor([[-0.7155, -0.7190, -0.7218, -0.8089, -1.1630, -0.5477]],\n",
              "         requires_grad=True))]"
            ]
          },
          "metadata": {},
          "execution_count": 12
        }
      ]
    },
    {
      "cell_type": "code",
      "source": [
        "best_value = train_obj.max()\n",
        "best_value"
      ],
      "metadata": {
        "colab": {
          "base_uri": "https://localhost:8080/"
        },
        "id": "Vg8iXvXOhdH4",
        "outputId": "6e0eb87d-79b3-43a3-fa3e-2f6beb4e0a26"
      },
      "execution_count": null,
      "outputs": [
        {
          "output_type": "execute_result",
          "data": {
            "text/plain": [
              "tensor(0.8750)"
            ]
          },
          "metadata": {},
          "execution_count": 13
        }
      ]
    },
    {
      "cell_type": "markdown",
      "source": [
        "# Analytic EI"
      ],
      "metadata": {
        "id": "-NYW61xFwFUx"
      }
    },
    {
      "cell_type": "code",
      "source": [
        "from botorch.acquisition import ExpectedImprovement\n",
        "EI = ExpectedImprovement(model=model, best_f=best_value)"
      ],
      "metadata": {
        "id": "4dmz_oEBh9f5"
      },
      "execution_count": null,
      "outputs": []
    },
    {
      "cell_type": "code",
      "source": [
        "EI(train_x[0].view(1,-1))"
      ],
      "metadata": {
        "colab": {
          "base_uri": "https://localhost:8080/"
        },
        "id": "AG3mpHuGGjf5",
        "outputId": "dc92a1d8-86b0-4a8d-f3a8-5cb5ec102a60"
      },
      "execution_count": null,
      "outputs": [
        {
          "output_type": "stream",
          "name": "stderr",
          "text": [
            "/usr/local/lib/python3.7/dist-packages/gpytorch/lazy/lazy_tensor.py:1811: UserWarning: torch.triangular_solve is deprecated in favor of torch.linalg.solve_triangularand will be removed in a future PyTorch release.\n",
            "torch.linalg.solve_triangular has its arguments reversed and does not return a copy of one of the inputs.\n",
            "X = torch.triangular_solve(B, A).solution\n",
            "should be replaced with\n",
            "X = torch.linalg.solve_triangular(A, B). (Triggered internally at  ../aten/src/ATen/native/BatchLinearAlgebra.cpp:2183.)\n",
            "  Linv = torch.triangular_solve(Eye, L, upper=False).solution\n"
          ]
        },
        {
          "output_type": "execute_result",
          "data": {
            "text/plain": [
              "tensor([2.8202e-24], grad_fn=<MulBackward0>)"
            ]
          },
          "metadata": {},
          "execution_count": 15
        }
      ]
    },
    {
      "cell_type": "code",
      "source": [
        "# forward() method of ExpectedImprovement\n",
        "from torch import Tensor\n",
        "from torch.distributions import Normal\n",
        "\n",
        "def forward(self, X: Tensor) -> Tensor:\n",
        "    # convert the data type of best observed value best_f to that of candidate X\n",
        "    self.best_f = self.best_f.to(X)\n",
        "    # obtain the posterior instance at candidate location(s) X\n",
        "    posterior = self.model.posterior(\n",
        "        X=X, posterior_transform=self.posterior_transform\n",
        "    )\n",
        "    # get posterior mean\n",
        "    mean = posterior.mean\n",
        "    # deal with batch evaluation and broadcasting\n",
        "    view_shape = mean.shape[:-2] if mean.shape[-2] == 1 else mean.shape[:-1]\n",
        "    mean = mean.view(view_shape)\n",
        "    # get posterior standard deviation, floored to avoid deviding by zero\n",
        "    sigma = posterior.variance.clamp_min(1e-9).sqrt().view(view_shape)\n",
        "    # calculate the standardized unit improvement, with best_f broadcasted if needed\n",
        "    u = (mean - self.best_f.expand_as(mean)) / sigma\n",
        "    # switch sign in the case of minimization\n",
        "    if not self.maximize:\n",
        "        u = -u\n",
        "    # calculate ei based on analytic form\n",
        "    normal = Normal(torch.zeros_like(u), torch.ones_like(u))\n",
        "    ucdf = normal.cdf(u)\n",
        "    updf = torch.exp(normal.log_prob(u))\n",
        "    ei = sigma * (updf + u * ucdf)\n",
        "    return ei\n"
      ],
      "metadata": {
        "id": "RLN7z7waeS-W"
      },
      "execution_count": null,
      "outputs": []
    },
    {
      "cell_type": "code",
      "source": [
        "from botorch.optim import optimize_acqf\n",
        "\n",
        "new_point_analytic, _ = optimize_acqf(\n",
        "    acq_function=EI, # acquisition function to guide the search\n",
        "    bounds=torch.tensor([[0.0] * 6, [1.0] * 6]), # 6d unit hypercube\n",
        "    q=1, # generate one candidate location in each iteration\n",
        "    num_restarts=20, # number of starting points for multistart optimization\n",
        "    raw_samples=100, # number of samples for initialization\n",
        "    options={}, # additional options if any\n",
        ")"
      ],
      "metadata": {
        "id": "JoqrFHsIsM4v"
      },
      "execution_count": null,
      "outputs": []
    },
    {
      "cell_type": "code",
      "source": [
        "new_point_analytic"
      ],
      "metadata": {
        "colab": {
          "base_uri": "https://localhost:8080/"
        },
        "id": "-ZAyoE_XCAt1",
        "outputId": "e111061b-3239-43c9-971f-95e92dc5b568"
      },
      "execution_count": null,
      "outputs": [
        {
          "output_type": "execute_result",
          "data": {
            "text/plain": [
              "tensor([[0.1715, 0.3180, 0.0816, 0.4204, 0.1985, 0.7727]])"
            ]
          },
          "metadata": {},
          "execution_count": 18
        }
      ]
    },
    {
      "cell_type": "code",
      "source": [
        "from torch.quasirandom import SobolEngine\n",
        "from matplotlib import pyplot as plt\n",
        "plt.figure(figsize=(6,6))\n",
        "\n",
        "sobol_engine = SobolEngine(dimension=2, scramble=True, seed=SEED)\n",
        "sobol_samples = sobol_engine.draw(200)\n",
        "xs_sobol = [x[0] for x in sobol_samples]\n",
        "ys_sobol = [x[1] for x in sobol_samples]\n",
        "plt.scatter(xs_sobol, ys_sobol)\n"
      ],
      "metadata": {
        "colab": {
          "base_uri": "https://localhost:8080/",
          "height": 392
        },
        "id": "STMNgmYs42bf",
        "outputId": "a9845f40-8ecd-4413-a92b-4b9d3f3d13b0"
      },
      "execution_count": null,
      "outputs": [
        {
          "output_type": "execute_result",
          "data": {
            "text/plain": [
              "<matplotlib.collections.PathCollection at 0x7f456f4dd7d0>"
            ]
          },
          "metadata": {},
          "execution_count": 19
        },
        {
          "output_type": "display_data",
          "data": {
            "text/plain": [
              "<Figure size 432x432 with 1 Axes>"
            ],
            "image/png": "[encoded data removed]"
          },
          "metadata": {
            "needs_background": "light"
          }
        }
      ]
    },
    {
      "cell_type": "code",
      "source": [
        "plt.figure(figsize=(6,6))\n",
        "random_samples = torch.rand(200, 2)\n",
        "xs_uniform = [x[0] for x in random_samples]\n",
        "ys_uniform = [x[1] for x in random_samples]\n",
        "plt.scatter(xs_uniform, ys_uniform)"
      ],
      "metadata": {
        "colab": {
          "base_uri": "https://localhost:8080/",
          "height": 392
        },
        "id": "5t8Drc_q6c1u",
        "outputId": "9ae0b304-31c3-4d14-9063-7c1f711a682a"
      },
      "execution_count": null,
      "outputs": [
        {
          "output_type": "execute_result",
          "data": {
            "text/plain": [
              "<matplotlib.collections.PathCollection at 0x7f456f4d7e50>"
            ]
          },
          "metadata": {},
          "execution_count": 20
        },
        {
          "output_type": "display_data",
          "data": {
            "text/plain": [
              "<Figure size 432x432 with 1 Axes>"
            ],
            "image/png": "[encoded data removed]"
          },
          "metadata": {
            "needs_background": "light"
          }
        }
      ]
    },
    {
      "cell_type": "code",
      "source": [
        "from botorch.optim.optimize import gen_batch_initial_conditions\n",
        "\n",
        "Xinit = gen_batch_initial_conditions(acq_function=EI, \n",
        "                                     bounds=torch.tensor([[0.0] * 6, [1.0] * 6]),\n",
        "                                     q=1, \n",
        "                                     num_restarts=20, \n",
        "                                     raw_samples=100)"
      ],
      "metadata": {
        "id": "Jive1wnZz5Ru"
      },
      "execution_count": null,
      "outputs": []
    },
    {
      "cell_type": "code",
      "source": [
        "Xinit.shape"
      ],
      "metadata": {
        "colab": {
          "base_uri": "https://localhost:8080/"
        },
        "id": "wfFgeQog0j8j",
        "outputId": "9cd64715-a0ae-4ad1-b3e0-e32e524e021f"
      },
      "execution_count": null,
      "outputs": [
        {
          "output_type": "execute_result",
          "data": {
            "text/plain": [
              "torch.Size([20, 1, 6])"
            ]
          },
          "metadata": {},
          "execution_count": 22
        }
      ]
    },
    {
      "cell_type": "code",
      "source": [
        "def _gen_initial_conditions() -> Tensor:\n",
        "    ic_gen = (\n",
        "        gen_one_shot_kg_initial_conditions\n",
        "        if isinstance(acq_function, qKnowledgeGradient)\n",
        "        else gen_batch_initial_conditions\n",
        "    )\n",
        "    batch_initial_conditions = ic_gen(\n",
        "        acq_function=acq_function,\n",
        "        bounds=bounds,\n",
        "        q=q,\n",
        "        num_restarts=num_restarts,\n",
        "        raw_samples=raw_samples,\n",
        "        fixed_features=fixed_features,\n",
        "        options=options,\n",
        "        inequality_constraints=inequality_constraints,\n",
        "        equality_constraints=equality_constraints,\n",
        "    )\n",
        "    return batch_initial_conditions\n",
        "\n",
        "# if not initial_conditions_provided:\n",
        "#     batch_initial_conditions = _gen_initial_conditions()"
      ],
      "metadata": {
        "id": "GHgjnS2m0j6K"
      },
      "execution_count": null,
      "outputs": []
    },
    {
      "cell_type": "code",
      "source": [
        "from botorch.generation.gen import gen_candidates_scipy\n",
        "\n",
        "batch_candidates, batch_acq_values = gen_candidates_scipy(\n",
        "                initial_conditions=Xinit,\n",
        "                acquisition_function=EI,\n",
        "                lower_bounds=torch.tensor([[0.0] * 6]),\n",
        "                upper_bounds=torch.tensor([[1.0] * 6]),\n",
        "            )\n",
        "# extract the index of the best candidate\n",
        "best = torch.argmax(batch_acq_values.view(-1), dim=0)\n",
        "batch_candidates = batch_candidates[best]\n",
        "batch_candidates"
      ],
      "metadata": {
        "colab": {
          "base_uri": "https://localhost:8080/"
        },
        "id": "BeAmMNJAg-b7",
        "outputId": "32aeb0a8-7adb-4fb4-9091-3e454383ae48"
      },
      "execution_count": null,
      "outputs": [
        {
          "output_type": "execute_result",
          "data": {
            "text/plain": [
              "tensor([[0.1715, 0.3180, 0.0816, 0.4204, 0.1985, 0.7727]])"
            ]
          },
          "metadata": {},
          "execution_count": 24
        }
      ]
    },
    {
      "cell_type": "markdown",
      "source": [
        "# MC EI"
      ],
      "metadata": {
        "id": "wxRQjhIMwIHq"
      }
    },
    {
      "cell_type": "code",
      "source": [
        "# SobolQMCNormalSampler\n",
        "from botorch.sampling import SobolQMCNormalSampler\n",
        "sampler = SobolQMCNormalSampler(1024, seed=1234)\n",
        "posterior = model.posterior(train_x[0][None, :])\n",
        "samples = sampler(posterior)"
      ],
      "metadata": {
        "id": "FNpYZBPY_hlB"
      },
      "execution_count": null,
      "outputs": []
    },
    {
      "cell_type": "code",
      "source": [
        "samples"
      ],
      "metadata": {
        "colab": {
          "base_uri": "https://localhost:8080/"
        },
        "id": "1fq8HtKO_hij",
        "outputId": "b177e68e-1515-41cd-de15-19ce28e5efab"
      },
      "execution_count": null,
      "outputs": [
        {
          "output_type": "execute_result",
          "data": {
            "text/plain": [
              "tensor([[[0.0506]],\n",
              "\n",
              "        [[0.1386]],\n",
              "\n",
              "        [[0.1737]],\n",
              "\n",
              "        ...,\n",
              "\n",
              "        [[0.1739]],\n",
              "\n",
              "        [[0.1384]],\n",
              "\n",
              "        [[0.0509]]], grad_fn=<UnsqueezeBackward0>)"
            ]
          },
          "metadata": {},
          "execution_count": 26
        }
      ]
    },
    {
      "cell_type": "code",
      "source": [
        "samples.shape"
      ],
      "metadata": {
        "colab": {
          "base_uri": "https://localhost:8080/"
        },
        "id": "NboIwGCBBdCP",
        "outputId": "5bdb38e5-f12c-4092-fd62-9f531a164034"
      },
      "execution_count": null,
      "outputs": [
        {
          "output_type": "execute_result",
          "data": {
            "text/plain": [
              "torch.Size([1024, 1, 1])"
            ]
          },
          "metadata": {},
          "execution_count": 27
        }
      ]
    },
    {
      "cell_type": "code",
      "source": [
        "# qExpectedImprovement\n",
        "from botorch.acquisition import qExpectedImprovement\n",
        "qEI = qExpectedImprovement(model, best_value, sampler)\n",
        "qEI(train_x[0][None, :])"
      ],
      "metadata": {
        "colab": {
          "base_uri": "https://localhost:8080/"
        },
        "id": "isDVOcJd-5Zs",
        "outputId": "543e103e-b630-46fa-a289-d40abd11a2ce"
      },
      "execution_count": null,
      "outputs": [
        {
          "output_type": "execute_result",
          "data": {
            "text/plain": [
              "tensor([0.], grad_fn=<MeanBackward1>)"
            ]
          },
          "metadata": {},
          "execution_count": 28
        }
      ]
    },
    {
      "cell_type": "code",
      "source": [
        "qEI(batch_candidates[None, :])"
      ],
      "metadata": {
        "colab": {
          "base_uri": "https://localhost:8080/"
        },
        "id": "BiBYN0d4-5XM",
        "outputId": "4f4c78ac-f7be-4d10-da8b-306d6e4e6fe9"
      },
      "execution_count": null,
      "outputs": [
        {
          "output_type": "execute_result",
          "data": {
            "text/plain": [
              "tensor([0.0538], grad_fn=<MeanBackward1>)"
            ]
          },
          "metadata": {},
          "execution_count": 29
        }
      ]
    },
    {
      "cell_type": "code",
      "source": [
        "EI(batch_candidates[None, :])"
      ],
      "metadata": {
        "colab": {
          "base_uri": "https://localhost:8080/"
        },
        "id": "cKl7Cg4u-5Us",
        "outputId": "8b78899b-fe24-4767-efd8-5512123ccafe"
      },
      "execution_count": null,
      "outputs": [
        {
          "output_type": "execute_result",
          "data": {
            "text/plain": [
              "tensor([0.0538], grad_fn=<MulBackward0>)"
            ]
          },
          "metadata": {},
          "execution_count": 30
        }
      ]
    },
    {
      "cell_type": "code",
      "source": [
        "def forward(self, X: Tensor) -> Tensor:\n",
        "    posterior = self.model.posterior(\n",
        "        X=X, posterior_transform=self.posterior_transform\n",
        "    )\n",
        "    samples = self.sampler(posterior)\n",
        "    obj = self.objective(samples, X=X)\n",
        "    obj = (obj - self.best_f.unsqueeze(-1).to(obj)).clamp_min(0)\n",
        "    q_ei = obj.max(dim=-1)[0].mean(dim=0)\n",
        "    return q_ei"
      ],
      "metadata": {
        "id": "rsCE1ccWEwVk"
      },
      "execution_count": null,
      "outputs": []
    },
    {
      "cell_type": "code",
      "source": [
        "sampler = SobolQMCNormalSampler(num_samples=500, seed=0, resample=False)  # 500x100x1      \n",
        "MC_EI = qExpectedImprovement(\n",
        "    model, best_f=best_value, sampler=sampler\n",
        ")\n",
        "torch.manual_seed(seed=0) # to keep the restart conditions the same\n",
        "new_point_mc, _ = optimize_acqf(\n",
        "    acq_function=MC_EI,\n",
        "    bounds=torch.tensor([[0.0] * 6, [1.0] * 6]),\n",
        "    q=1,\n",
        "    num_restarts=20,\n",
        "    raw_samples=100,\n",
        "    options={},\n",
        ")"
      ],
      "metadata": {
        "id": "4lujVmeqCGSS"
      },
      "execution_count": null,
      "outputs": []
    },
    {
      "cell_type": "code",
      "source": [
        "new_point_mc"
      ],
      "metadata": {
        "id": "JkHAes-odDqt",
        "colab": {
          "base_uri": "https://localhost:8080/"
        },
        "outputId": "a4ca1cf5-4eb3-419a-8497-0eddaf54dbdf"
      },
      "execution_count": null,
      "outputs": [
        {
          "output_type": "execute_result",
          "data": {
            "text/plain": [
              "tensor([[0.1715, 0.3181, 0.0816, 0.4204, 0.1985, 0.7726]])"
            ]
          },
          "metadata": {},
          "execution_count": 33
        }
      ]
    },
    {
      "cell_type": "code",
      "source": [
        "torch.norm(new_point_mc - new_point_analytic)"
      ],
      "metadata": {
        "colab": {
          "base_uri": "https://localhost:8080/"
        },
        "id": "PhulAL2JxLSF",
        "outputId": "40e8fed2-18ce-47a2-c539-49edcaf92993"
      },
      "execution_count": null,
      "outputs": [
        {
          "output_type": "execute_result",
          "data": {
            "text/plain": [
              "tensor(0.0001)"
            ]
          },
          "metadata": {},
          "execution_count": 34
        }
      ]
    },
    {
      "cell_type": "code",
      "source": [],
      "metadata": {
        "id": "RZlOYHED2MM_"
      },
      "execution_count": null,
      "outputs": []
    }
  ]
}