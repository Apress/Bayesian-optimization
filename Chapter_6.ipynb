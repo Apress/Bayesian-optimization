{
  "nbformat": 4,
  "nbformat_minor": 0,
  "metadata": {
    "colab": {
      "provenance": []
    },
    "kernelspec": {
      "name": "python3",
      "display_name": "Python 3"
    },
    "language_info": {
      "name": "python"
    }
  },
  "cells": [
    {
      "cell_type": "code",
      "source": [
        "!pip install botorch"
      ],
      "metadata": {
        "colab": {
          "base_uri": "https://localhost:8080/"
        },
        "id": "I41U2Gn6xFFS",
        "outputId": "5067d534-7660-423f-ccd2-4feaaeb8f715"
      },
      "execution_count": null,
      "outputs": [
        {
          "output_type": "stream",
          "name": "stdout",
          "text": [
            "Looking in indexes: https://pypi.org/simple, https://us-python.pkg.dev/colab-wheels/public/simple/\n",
            "Requirement already satisfied: botorch in /usr/local/lib/python3.7/dist-packages (0.6.6)\n",
            "Requirement already satisfied: pyro-ppl>=1.8.0 in /usr/local/lib/python3.7/dist-packages (from botorch) (1.8.2)\n",
            "Requirement already satisfied: gpytorch>=1.8.1 in /usr/local/lib/python3.7/dist-packages (from botorch) (1.8.1)\n",
            "Requirement already satisfied: multipledispatch in /usr/local/lib/python3.7/dist-packages (from botorch) (0.6.0)\n",
            "Requirement already satisfied: torch>=1.10 in /usr/local/lib/python3.7/dist-packages (from botorch) (1.12.1+cu113)\n",
            "Requirement already satisfied: scipy in /usr/local/lib/python3.7/dist-packages (from botorch) (1.7.3)\n",
            "Requirement already satisfied: numpy in /usr/local/lib/python3.7/dist-packages (from gpytorch>=1.8.1->botorch) (1.21.6)\n",
            "Requirement already satisfied: scikit-learn in /usr/local/lib/python3.7/dist-packages (from gpytorch>=1.8.1->botorch) (1.0.2)\n",
            "Requirement already satisfied: opt-einsum>=2.3.2 in /usr/local/lib/python3.7/dist-packages (from pyro-ppl>=1.8.0->botorch) (3.3.0)\n",
            "Requirement already satisfied: tqdm>=4.36 in /usr/local/lib/python3.7/dist-packages (from pyro-ppl>=1.8.0->botorch) (4.64.1)\n",
            "Requirement already satisfied: pyro-api>=0.1.1 in /usr/local/lib/python3.7/dist-packages (from pyro-ppl>=1.8.0->botorch) (0.1.2)\n",
            "Requirement already satisfied: typing-extensions in /usr/local/lib/python3.7/dist-packages (from torch>=1.10->botorch) (4.1.1)\n",
            "Requirement already satisfied: six in /usr/local/lib/python3.7/dist-packages (from multipledispatch->botorch) (1.15.0)\n",
            "Requirement already satisfied: joblib>=0.11 in /usr/local/lib/python3.7/dist-packages (from scikit-learn->gpytorch>=1.8.1->botorch) (1.2.0)\n",
            "Requirement already satisfied: threadpoolctl>=2.0.0 in /usr/local/lib/python3.7/dist-packages (from scikit-learn->gpytorch>=1.8.1->botorch) (3.1.0)\n"
          ]
        }
      ]
    },
    {
      "cell_type": "code",
      "execution_count": null,
      "metadata": {
        "id": "GT747-Ezw1YA",
        "colab": {
          "base_uri": "https://localhost:8080/"
        },
        "outputId": "dde4d11c-38eb-487a-9413-8d2f0937aa1d"
      },
      "outputs": [
        {
          "output_type": "execute_result",
          "data": {
            "text/plain": [
              "<torch._C.Generator at 0x7f20860c2110>"
            ]
          },
          "metadata": {},
          "execution_count": 2
        }
      ],
      "source": [
        "import os\n",
        "import math\n",
        "import torch\n",
        "\n",
        "SEED = 8\n",
        "torch.manual_seed(SEED)"
      ]
    },
    {
      "cell_type": "code",
      "source": [
        "from botorch.utils.transforms import standardize\n",
        "bounds = torch.stack([torch.zeros(2), torch.ones(2)])\n",
        "train_X = bounds[0] + (bounds[1] - bounds[0]) * torch.rand(20, 2)\n",
        "train_Y = torch.sin(2 * math.pi * train_X[:, [0]]) * torch.cos(2 * math.pi * train_X[:, [1]])\n",
        "train_Y = standardize(train_Y + 0.05 * torch.randn_like(train_Y))"
      ],
      "metadata": {
        "id": "s37rcUviMwRb"
      },
      "execution_count": null,
      "outputs": []
    },
    {
      "cell_type": "code",
      "source": [
        "from botorch.models import SingleTaskGP\n",
        "from gpytorch.mlls import ExactMarginalLogLikelihood\n",
        "from botorch.fit import fit_gpytorch_model\n",
        "model = SingleTaskGP(train_X, train_Y)\n",
        "mll = ExactMarginalLogLikelihood(model.likelihood, model)\n",
        "fit_gpytorch_model(mll);"
      ],
      "metadata": {
        "id": "hN8QZlfqw8yd"
      },
      "execution_count": null,
      "outputs": []
    },
    {
      "cell_type": "code",
      "source": [
        "from botorch.acquisition import qKnowledgeGradient\n",
        "\n",
        "NUM_FANTASIES = 128\n",
        "qKG = qKnowledgeGradient(model, num_fantasies=NUM_FANTASIES)"
      ],
      "metadata": {
        "id": "itOiiX9lxX08"
      },
      "execution_count": null,
      "outputs": []
    },
    {
      "cell_type": "code",
      "source": [
        "from torch.quasirandom import SobolEngine\n",
        "sobol_engine = SobolEngine(dimension=2, scramble=True, seed=8)\n",
        "sobol_samples = sobol_engine.draw(NUM_FANTASIES)"
      ],
      "metadata": {
        "id": "1inewmOVIGil"
      },
      "execution_count": null,
      "outputs": []
    },
    {
      "cell_type": "code",
      "source": [
        "qKG(torch.cat((train_X[0].view(1,-1),sobol_samples),0)).item()"
      ],
      "metadata": {
        "colab": {
          "base_uri": "https://localhost:8080/"
        },
        "id": "yyNAOROkE0Gy",
        "outputId": "da918891-4eb2-4496-869b-1ced0f959a1d"
      },
      "execution_count": null,
      "outputs": [
        {
          "output_type": "stream",
          "name": "stderr",
          "text": [
            "/usr/local/lib/python3.7/dist-packages/gpytorch/lazy/lazy_tensor.py:1811: UserWarning: torch.triangular_solve is deprecated in favor of torch.linalg.solve_triangularand will be removed in a future PyTorch release.\n",
            "torch.linalg.solve_triangular has its arguments reversed and does not return a copy of one of the inputs.\n",
            "X = torch.triangular_solve(B, A).solution\n",
            "should be replaced with\n",
            "X = torch.linalg.solve_triangular(A, B). (Triggered internally at  ../aten/src/ATen/native/BatchLinearAlgebra.cpp:2183.)\n",
            "  Linv = torch.triangular_solve(Eye, L, upper=False).solution\n"
          ]
        },
        {
          "output_type": "execute_result",
          "data": {
            "text/plain": [
              "0.19309169054031372"
            ]
          },
          "metadata": {},
          "execution_count": 7
        }
      ]
    },
    {
      "cell_type": "code",
      "source": [
        "# inner workings, not to be run\n",
        "# sampler = SobolQMCNormalSampler(\n",
        "#                 num_samples=num_fantasies, resample=False, collapse_batch_dims=True\n",
        "#             )\n",
        "\n",
        "# def _split_fantasy_points(X: Tensor, n_f: int) -> Tuple[Tensor, Tensor]:\n",
        "#     if n_f > X.size(-2):\n",
        "#         raise ValueError(\n",
        "#             f\"n_f ({n_f}) must be less than the q-batch dimension of X ({X.size(-2)})\"\n",
        "#         )\n",
        "#     split_sizes = [X.size(-2) - n_f, n_f]\n",
        "#     X_actual, X_fantasies = torch.split(X, split_sizes, dim=-2)\n",
        "#     X_fantasies = X_fantasies.permute(-2, *range(X_fantasies.dim() - 2), -1)\n",
        "#     X_fantasies = X_fantasies.unsqueeze(dim=-2)\n",
        "#     return X_actual, X_fantasies\n",
        "\n",
        "# def _get_value_function(\n",
        "#     model: Model,\n",
        "#     objective: Optional[MCAcquisitionObjective] = None,\n",
        "#     posterior_transform: Optional[PosteriorTransform] = None,\n",
        "#     sampler: Optional[MCSampler] = None,\n",
        "#     project: Optional[Callable[[Tensor], Tensor]] = None,\n",
        "#     valfunc_cls: Optional[Type[AcquisitionFunction]] = None,\n",
        "#     valfunc_argfac: Optional[Callable[[Model, Dict[str, Any]]]] = None,\n",
        "# ) -> AcquisitionFunction:\n",
        "#     r\"\"\"Construct value function (i.e. inner acquisition function).\"\"\"\n",
        "#     if valfunc_cls is not None:\n",
        "#         common_kwargs: Dict[str, Any] = {\n",
        "#             \"model\": model,\n",
        "#             \"posterior_transform\": posterior_transform,\n",
        "#         }\n",
        "#         if issubclass(valfunc_cls, MCAcquisitionFunction):\n",
        "#             common_kwargs[\"sampler\"] = sampler\n",
        "#             common_kwargs[\"objective\"] = objective\n",
        "#         kwargs = valfunc_argfac(model=model) if valfunc_argfac is not None else {}\n",
        "#         base_value_function = valfunc_cls(**common_kwargs, **kwargs)\n",
        "#     else:\n",
        "#         if objective is not None:\n",
        "#             base_value_function = qSimpleRegret(\n",
        "#                 model=model,\n",
        "#                 sampler=sampler,\n",
        "#                 objective=objective,\n",
        "#                 posterior_transform=posterior_transform,\n",
        "#             )\n",
        "#         else:\n",
        "#             base_value_function = PosteriorMean(\n",
        "#                 model=model, posterior_transform=posterior_transform\n",
        "#             )\n",
        "\n",
        "#     if project is None:\n",
        "#         return base_value_function\n",
        "#     else:\n",
        "#         return ProjectedAcquisitionFunction(\n",
        "#             base_value_function=base_value_function,\n",
        "#             project=project,\n",
        "#         )\n",
        "\n",
        "\n",
        "# def forward(self, X: Tensor) -> Tensor:\n",
        "#     # split fantasy location from the actual location under evaluation\n",
        "#     X_actual, X_fantasies = _split_fantasy_points(X=X, n_f=self.num_fantasies)\n",
        "\n",
        "#     # only concatenate X_pending into the X part after splitting\n",
        "#     if self.X_pending is not None:\n",
        "#         X_actual = torch.cat(\n",
        "#             [X_actual, match_batch_shape(self.X_pending, X_actual)], dim=-2\n",
        "#         )\n",
        "\n",
        "#     # construct the fantasy model of shape `num_fantasies x b`\n",
        "#     fantasy_model = self.model.fantasize(\n",
        "#         X=X_actual, sampler=self.sampler, observation_noise=True\n",
        "#     )\n",
        "\n",
        "#     # get the value function\n",
        "#     value_function = _get_value_function(\n",
        "#         model=fantasy_model,\n",
        "#         objective=self.objective,\n",
        "#         posterior_transform=self.posterior_transform,\n",
        "#         sampler=self.inner_sampler,\n",
        "#     )\n",
        "\n",
        "#     # make sure to propagate gradients to the fantasy model train inputs\n",
        "#     with settings.propagate_grads(True):\n",
        "#         values = value_function(X=X_fantasies)  # num_fantasies x b\n",
        "\n",
        "    if self.current_value is not None:\n",
        "        values = values - self.current_value\n",
        "\n",
        "#     # return average over the fantasy samples\n",
        "#     return values.mean(dim=0)\n"
      ],
      "metadata": {
        "id": "-YrNKEUe76sv"
      },
      "execution_count": null,
      "outputs": []
    },
    {
      "cell_type": "code",
      "source": [
        "from botorch.sampling import SobolQMCNormalSampler\n",
        "sampler = SobolQMCNormalSampler(num_samples=5, seed=1234)\n",
        "fantasy_model = model.fantasize(train_X[0].view(1,-1), sampler, observation_noise=True)\n",
        "\n",
        "from botorch.acquisition.analytic import PosteriorMean\n",
        "PosteriorMean(model)(train_X[0].view(1,-1))"
      ],
      "metadata": {
        "colab": {
          "base_uri": "https://localhost:8080/"
        },
        "id": "JZGPOwV7ElsL",
        "outputId": "73fd47ee-0452-43ff-84c9-d7d0a746f7e6"
      },
      "execution_count": null,
      "outputs": [
        {
          "output_type": "execute_result",
          "data": {
            "text/plain": [
              "tensor([-0.3386], grad_fn=<ViewBackward0>)"
            ]
          },
          "metadata": {},
          "execution_count": 9
        }
      ]
    },
    {
      "cell_type": "code",
      "source": [
        "PosteriorMean(model)(train_X[0].view(1,-1)).item()"
      ],
      "metadata": {
        "colab": {
          "base_uri": "https://localhost:8080/"
        },
        "id": "rpXikhhMo6Ni",
        "outputId": "2d55dfc5-b9d3-4fed-df78-058882acab83"
      },
      "execution_count": null,
      "outputs": [
        {
          "output_type": "execute_result",
          "data": {
            "text/plain": [
              "-0.3386051654815674"
            ]
          },
          "metadata": {},
          "execution_count": 10
        }
      ]
    },
    {
      "cell_type": "code",
      "source": [
        "PosteriorMean(fantasy_model)(train_X[0].view(1,-1))"
      ],
      "metadata": {
        "colab": {
          "base_uri": "https://localhost:8080/"
        },
        "id": "fNYBuuB7UimJ",
        "outputId": "28380e6e-2c3a-4db3-c4ac-fb387deaf5ad"
      },
      "execution_count": null,
      "outputs": [
        {
          "output_type": "execute_result",
          "data": {
            "text/plain": [
              "tensor([-0.4586, -0.2904, -0.2234, -0.3893, -0.3752], grad_fn=<ViewBackward0>)"
            ]
          },
          "metadata": {},
          "execution_count": 11
        }
      ]
    },
    {
      "cell_type": "code",
      "source": [
        "# def gen_one_shot_kg_initial_conditions(\n",
        "#     acq_function: qKnowledgeGradient,\n",
        "#     bounds: Tensor,\n",
        "#     q: int,\n",
        "#     num_restarts: int,\n",
        "#     raw_samples: int,\n",
        "#     fixed_features: Optional[Dict[int, float]] = None,\n",
        "#     options: Optional[Dict[str, Union[bool, float, int]]] = None,\n",
        "#     inequality_constraints: Optional[List[Tuple[Tensor, Tensor, float]]] = None,\n",
        "#     equality_constraints: Optional[List[Tuple[Tensor, Tensor, float]]] = None,\n",
        "# ) -> Optional[Tensor]:\n",
        "#     options = options or {}\n",
        "#     frac_random: float = options.get(\"frac_random\", 0.1)\n",
        "#     if not 0 < frac_random < 1:\n",
        "#         raise ValueError(\n",
        "#             f\"frac_random must take on values in (0,1). Value: {frac_random}\"\n",
        "#         )\n",
        "#     q_aug = acq_function.get_augmented_q_batch_size(q=q)\n",
        "\n",
        "#     ics = gen_batch_initial_conditions(\n",
        "#         acq_function=acq_function,\n",
        "#         bounds=bounds,\n",
        "#         q=q_aug,\n",
        "#         num_restarts=num_restarts,\n",
        "#         raw_samples=raw_samples,\n",
        "#         fixed_features=fixed_features,\n",
        "#         options=options,\n",
        "#         inequality_constraints=inequality_constraints,\n",
        "#         equality_constraints=equality_constraints,\n",
        "#     )\n",
        "\n",
        "#     # compute maximizer of the value function\n",
        "#     value_function = _get_value_function(\n",
        "#         model=acq_function.model,\n",
        "#         objective=acq_function.objective,\n",
        "#         posterior_transform=acq_function.posterior_transform,\n",
        "#         sampler=acq_function.inner_sampler,\n",
        "#         project=getattr(acq_function, \"project\", None),\n",
        "#     )\n",
        "#     from botorch.optim.optimize import optimize_acqf\n",
        "\n",
        "#     fantasy_cands, fantasy_vals = optimize_acqf(\n",
        "#         acq_function=value_function,\n",
        "#         bounds=bounds,\n",
        "#         q=1,\n",
        "#         num_restarts=options.get(\"num_inner_restarts\", 20),\n",
        "#         raw_samples=options.get(\"raw_inner_samples\", 1024),\n",
        "#         fixed_features=fixed_features,\n",
        "#         return_best_only=False,\n",
        "#         inequality_constraints=inequality_constraints,\n",
        "#         equality_constraints=equality_constraints,\n",
        "#     )\n",
        "\n",
        "#     # sampling from the optimizers\n",
        "#     n_value = int((1 - frac_random) * (q_aug - q))  # number of non-random ICs\n",
        "#     eta = options.get(\"eta\", 2.0)\n",
        "#     weights = torch.exp(eta * standardize(fantasy_vals))\n",
        "#     idx = torch.multinomial(weights, num_restarts * n_value, replacement=True)\n",
        "\n",
        "#     # set the respective initial conditions to the sampled optimizers\n",
        "#     ics[..., -n_value:, :] = fantasy_cands[idx, 0].view(num_restarts, n_value, -1)\n",
        "#     return ics\n",
        "\n",
        "\n",
        "# def get_augmented_q_batch_size(self, q: int) -> int:\n",
        "#     r\"\"\"Get augmented q batch size for one-shot optimization.\n",
        "\n",
        "#     Args:\n",
        "#         q: The number of candidates to consider jointly.\n",
        "\n",
        "#     Returns:\n",
        "#         The augmented size for one-shot optimization (including variables\n",
        "#         parameterizing the fantasy solutions).\n",
        "#     \"\"\"\n",
        "#     return q + self.num_fantasies"
      ],
      "metadata": {
        "id": "NUPtWNCfWLUW"
      },
      "execution_count": null,
      "outputs": []
    },
    {
      "cell_type": "code",
      "source": [
        "from botorch.optim.initializers import gen_one_shot_kg_initial_conditions\n",
        "\n",
        "Xinit = gen_one_shot_kg_initial_conditions(qKG, bounds, q=2, num_restarts=10, \n",
        "                                           raw_samples=512, options={\"frac_random\": 0.25})\n",
        "Xinit.size()"
      ],
      "metadata": {
        "colab": {
          "base_uri": "https://localhost:8080/"
        },
        "id": "aVWuHypcA8FI",
        "outputId": "ee8fef2f-3729-4480-a025-44089e734e3b"
      },
      "execution_count": null,
      "outputs": [
        {
          "output_type": "execute_result",
          "data": {
            "text/plain": [
              "torch.Size([10, 130, 2])"
            ]
          },
          "metadata": {},
          "execution_count": 13
        }
      ]
    },
    {
      "cell_type": "code",
      "source": [
        "from botorch.optim import optimize_acqf\n",
        "from botorch.utils.sampling import manual_seed\n",
        "\n",
        "NUM_RESTARTS = 10\n",
        "RAW_SAMPLES = 512\n",
        "\n",
        "with manual_seed(1234):\n",
        "    candidates, acq_value = optimize_acqf(\n",
        "        acq_function=qKG, \n",
        "        bounds=bounds,\n",
        "        q=2,\n",
        "        num_restarts=NUM_RESTARTS,\n",
        "        raw_samples=RAW_SAMPLES,\n",
        "    )"
      ],
      "metadata": {
        "id": "HIHtXd-VxcQU"
      },
      "execution_count": null,
      "outputs": []
    },
    {
      "cell_type": "code",
      "source": [
        "candidates"
      ],
      "metadata": {
        "colab": {
          "base_uri": "https://localhost:8080/"
        },
        "id": "9nUyeBLDxiYG",
        "outputId": "158ce6f2-d728-4b5b-fe4c-76c29360ffbe"
      },
      "execution_count": null,
      "outputs": [
        {
          "output_type": "execute_result",
          "data": {
            "text/plain": [
              "tensor([[0.3940, 1.0000],\n",
              "        [0.0950, 0.0000]])"
            ]
          },
          "metadata": {},
          "execution_count": 15
        }
      ]
    },
    {
      "cell_type": "code",
      "source": [
        "acq_value"
      ],
      "metadata": {
        "colab": {
          "base_uri": "https://localhost:8080/"
        },
        "id": "konnAhn7xlEF",
        "outputId": "517d11aa-b921-443f-e0e7-94052fb1dc78"
      },
      "execution_count": null,
      "outputs": [
        {
          "output_type": "execute_result",
          "data": {
            "text/plain": [
              "tensor(2.0358)"
            ]
          },
          "metadata": {},
          "execution_count": 16
        }
      ]
    },
    {
      "cell_type": "code",
      "source": [
        "from botorch.acquisition import PosteriorMean\n",
        "\n",
        "NUM_RESTARTS = 20\n",
        "RAW_SAMPLES = 2048\n",
        "\n",
        "argmax_pmean, max_pmean = optimize_acqf(\n",
        "    acq_function=PosteriorMean(model), \n",
        "    bounds=bounds,\n",
        "    q=1,\n",
        "    num_restarts=NUM_RESTARTS,\n",
        "    raw_samples=RAW_SAMPLES\n",
        ")"
      ],
      "metadata": {
        "id": "5wqDlyJMxozB"
      },
      "execution_count": null,
      "outputs": []
    },
    {
      "cell_type": "code",
      "source": [
        "max_pmean"
      ],
      "metadata": {
        "colab": {
          "base_uri": "https://localhost:8080/"
        },
        "id": "b1dsCXAK9VFX",
        "outputId": "703f0293-e733-45ba-8c84-15ffab459e85"
      },
      "execution_count": null,
      "outputs": [
        {
          "output_type": "execute_result",
          "data": {
            "text/plain": [
              "tensor(1.9548)"
            ]
          },
          "metadata": {},
          "execution_count": 18
        }
      ]
    },
    {
      "cell_type": "code",
      "source": [
        "qKG_proper = qKnowledgeGradient(\n",
        "    model,\n",
        "    num_fantasies=NUM_FANTASIES,\n",
        "    sampler=qKG.sampler,\n",
        "    current_value=max_pmean,\n",
        ")\n",
        "\n",
        "with manual_seed(1234):\n",
        "    candidates_proper, acq_value_proper = optimize_acqf(\n",
        "        acq_function=qKG_proper, \n",
        "        bounds=bounds,\n",
        "        q=2,\n",
        "        num_restarts=NUM_RESTARTS,\n",
        "        raw_samples=RAW_SAMPLES,\n",
        "    )"
      ],
      "metadata": {
        "colab": {
          "base_uri": "https://localhost:8080/"
        },
        "id": "2GHAbri4x5bP",
        "outputId": "5ec2e2ce-a272-490c-f0da-e37a58837ef8"
      },
      "execution_count": null,
      "outputs": [
        {
          "output_type": "stream",
          "name": "stderr",
          "text": [
            "/usr/local/lib/python3.7/dist-packages/botorch/optim/optimize.py:287: RuntimeWarning: Optimization failed in `gen_candidates_scipy` with the following warning(s):\n",
            "[OptimizationWarning('Optimization failed within `scipy.optimize.minimize` with status 2.')]\n",
            "Trying again with a new set of initial conditions.\n",
            "  warnings.warn(first_warn_msg, RuntimeWarning)\n"
          ]
        }
      ]
    },
    {
      "cell_type": "code",
      "source": [
        "candidates_proper"
      ],
      "metadata": {
        "colab": {
          "base_uri": "https://localhost:8080/"
        },
        "id": "E2KC0jlEyMfl",
        "outputId": "e8598d97-4988-4cd0-dc14-a00223562692"
      },
      "execution_count": null,
      "outputs": [
        {
          "output_type": "execute_result",
          "data": {
            "text/plain": [
              "tensor([[0.2070, 1.0000],\n",
              "        [0.0874, 0.0122]])"
            ]
          },
          "metadata": {},
          "execution_count": 20
        }
      ]
    },
    {
      "cell_type": "code",
      "source": [
        "acq_value_proper"
      ],
      "metadata": {
        "colab": {
          "base_uri": "https://localhost:8080/"
        },
        "id": "m2NY8CBcyWe3",
        "outputId": "76660936-b883-4c17-dc9f-bd856208029d"
      },
      "execution_count": null,
      "outputs": [
        {
          "output_type": "execute_result",
          "data": {
            "text/plain": [
              "tensor(0.0107)"
            ]
          },
          "metadata": {},
          "execution_count": 21
        }
      ]
    },
    {
      "cell_type": "code",
      "source": [],
      "metadata": {
        "id": "ANy4fSkUyXzQ"
      },
      "execution_count": null,
      "outputs": []
    }
  ]
}